{
 "cells": [
  {
   "cell_type": "code",
   "execution_count": 6,
   "id": "935f0b7c-a0d2-4994-a307-ba83f4bfce01",
   "metadata": {},
   "outputs": [],
   "source": [
    "import pandas as pd"
   ]
  },
  {
   "cell_type": "code",
   "execution_count": 8,
   "id": "12ffb2f4-829c-429a-b572-1fdd16f9667e",
   "metadata": {},
   "outputs": [],
   "source": [
    "df1 = pd.read_excel (r'E:\\MeterConsumptionDataSpreadsheet_metered_en (5).xlsx')"
   ]
  },
  {
   "cell_type": "code",
   "execution_count": 10,
   "id": "55334d6f-ced4-4b78-9321-b66554aaae59",
   "metadata": {},
   "outputs": [
    {
     "data": {
      "text/html": [
       "<div>\n",
       "<style scoped>\n",
       "    .dataframe tbody tr th:only-of-type {\n",
       "        vertical-align: middle;\n",
       "    }\n",
       "\n",
       "    .dataframe tbody tr th {\n",
       "        vertical-align: top;\n",
       "    }\n",
       "\n",
       "    .dataframe thead th {\n",
       "        text-align: right;\n",
       "    }\n",
       "</style>\n",
       "<table border=\"1\" class=\"dataframe\">\n",
       "  <thead>\n",
       "    <tr style=\"text-align: right;\">\n",
       "      <th></th>\n",
       "      <th>Start Date (Required)</th>\n",
       "      <th>End Date (Required)</th>\n",
       "      <th>Usage (Required)</th>\n",
       "      <th>Cost (Optional)</th>\n",
       "      <th>Estimation (Required)</th>\n",
       "    </tr>\n",
       "  </thead>\n",
       "  <tbody>\n",
       "    <tr>\n",
       "      <th>0</th>\n",
       "      <td>2023-07-01</td>\n",
       "      <td>2023-08-01</td>\n",
       "      <td>100</td>\n",
       "      <td>NaN</td>\n",
       "      <td>No</td>\n",
       "    </tr>\n",
       "    <tr>\n",
       "      <th>1</th>\n",
       "      <td>2023-08-01</td>\n",
       "      <td>2023-09-01</td>\n",
       "      <td>200</td>\n",
       "      <td>NaN</td>\n",
       "      <td>No</td>\n",
       "    </tr>\n",
       "  </tbody>\n",
       "</table>\n",
       "</div>"
      ],
      "text/plain": [
       "  Start Date (Required) End Date (Required)  Usage (Required)  \\\n",
       "0            2023-07-01          2023-08-01               100   \n",
       "1            2023-08-01          2023-09-01               200   \n",
       "\n",
       "   Cost (Optional) Estimation (Required)  \n",
       "0              NaN                    No  \n",
       "1              NaN                    No  "
      ]
     },
     "execution_count": 10,
     "metadata": {},
     "output_type": "execute_result"
    }
   ],
   "source": [
    "df1"
   ]
  },
  {
   "cell_type": "code",
   "execution_count": 15,
   "id": "d94ab87b-b9d3-4b75-a255-f5eb87245d2e",
   "metadata": {},
   "outputs": [],
   "source": [
    "a = list(set(df1.columns))"
   ]
  },
  {
   "cell_type": "code",
   "execution_count": 16,
   "id": "9cb472cd-0e7d-4059-99b4-554cd8cedea8",
   "metadata": {},
   "outputs": [
    {
     "data": {
      "text/plain": [
       "['Cost (Optional)',\n",
       " 'Start Date (Required)',\n",
       " 'Estimation (Required)',\n",
       " 'Usage (Required)',\n",
       " 'End Date (Required)']"
      ]
     },
     "execution_count": 16,
     "metadata": {},
     "output_type": "execute_result"
    }
   ],
   "source": [
    "a"
   ]
  },
  {
   "cell_type": "code",
   "execution_count": 17,
   "id": "aa0f6e8f-6e85-4980-bb49-33cd100c3723",
   "metadata": {},
   "outputs": [
    {
     "data": {
      "text/html": [
       "<div>\n",
       "<style scoped>\n",
       "    .dataframe tbody tr th:only-of-type {\n",
       "        vertical-align: middle;\n",
       "    }\n",
       "\n",
       "    .dataframe tbody tr th {\n",
       "        vertical-align: top;\n",
       "    }\n",
       "\n",
       "    .dataframe thead th {\n",
       "        text-align: right;\n",
       "    }\n",
       "</style>\n",
       "<table border=\"1\" class=\"dataframe\">\n",
       "  <thead>\n",
       "    <tr style=\"text-align: right;\">\n",
       "      <th></th>\n",
       "      <th>Start Date (Required)</th>\n",
       "      <th>End Date (Required)</th>\n",
       "      <th>Usage (Required)</th>\n",
       "      <th>Cost (Optional)</th>\n",
       "      <th>Estimation (Required)</th>\n",
       "    </tr>\n",
       "  </thead>\n",
       "  <tbody>\n",
       "    <tr>\n",
       "      <th>0</th>\n",
       "      <td>2023-07-01</td>\n",
       "      <td>2023-08-01</td>\n",
       "      <td>100</td>\n",
       "      <td>NaN</td>\n",
       "      <td>No</td>\n",
       "    </tr>\n",
       "    <tr>\n",
       "      <th>1</th>\n",
       "      <td>2023-08-01</td>\n",
       "      <td>2023-09-01</td>\n",
       "      <td>200</td>\n",
       "      <td>NaN</td>\n",
       "      <td>No</td>\n",
       "    </tr>\n",
       "  </tbody>\n",
       "</table>\n",
       "</div>"
      ],
      "text/plain": [
       "  Start Date (Required) End Date (Required)  Usage (Required)  \\\n",
       "0            2023-07-01          2023-08-01               100   \n",
       "1            2023-08-01          2023-09-01               200   \n",
       "\n",
       "   Cost (Optional) Estimation (Required)  \n",
       "0              NaN                    No  \n",
       "1              NaN                    No  "
      ]
     },
     "execution_count": 17,
     "metadata": {},
     "output_type": "execute_result"
    }
   ],
   "source": [
    "df1"
   ]
  },
  {
   "cell_type": "code",
   "execution_count": 18,
   "id": "b5af5749-d5b6-4462-89b8-3f72b43e57db",
   "metadata": {},
   "outputs": [
    {
     "data": {
      "text/plain": [
       "pandas.core.frame.DataFrame"
      ]
     },
     "execution_count": 18,
     "metadata": {},
     "output_type": "execute_result"
    }
   ],
   "source": [
    "type(df1)"
   ]
  },
  {
   "cell_type": "code",
   "execution_count": null,
   "id": "184bd0f4-0508-4da2-a84c-3b3a4eb0efb8",
   "metadata": {},
   "outputs": [],
   "source": []
  }
 ],
 "metadata": {
  "kernelspec": {
   "display_name": "Python 3 (ipykernel)",
   "language": "python",
   "name": "python3"
  },
  "language_info": {
   "codemirror_mode": {
    "name": "ipython",
    "version": 3
   },
   "file_extension": ".py",
   "mimetype": "text/x-python",
   "name": "python",
   "nbconvert_exporter": "python",
   "pygments_lexer": "ipython3",
   "version": "3.9.13"
  }
 },
 "nbformat": 4,
 "nbformat_minor": 5
}
